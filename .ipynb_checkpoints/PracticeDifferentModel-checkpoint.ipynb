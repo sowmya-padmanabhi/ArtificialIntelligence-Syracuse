{
 "cells": [
  {
   "cell_type": "code",
   "execution_count": 1,
   "metadata": {},
   "outputs": [
    {
     "name": "stderr",
     "output_type": "stream",
     "text": [
      "Using Theano backend.\n",
      "ERROR (theano.gpuarray): Could not initialize pygpu, support disabled\n",
      "Traceback (most recent call last):\n",
      "  File \"/Users/sowmyapadmanabhi/anaconda2/lib/python2.7/site-packages/theano/gpuarray/__init__.py\", line 164, in <module>\n",
      "    use(config.device)\n",
      "  File \"/Users/sowmyapadmanabhi/anaconda2/lib/python2.7/site-packages/theano/gpuarray/__init__.py\", line 151, in use\n",
      "    init_dev(device)\n",
      "  File \"/Users/sowmyapadmanabhi/anaconda2/lib/python2.7/site-packages/theano/gpuarray/__init__.py\", line 60, in init_dev\n",
      "    sched=config.gpuarray.sched)\n",
      "  File \"pygpu/gpuarray.pyx\", line 634, in pygpu.gpuarray.init\n",
      "  File \"pygpu/gpuarray.pyx\", line 584, in pygpu.gpuarray.pygpu_init\n",
      "  File \"pygpu/gpuarray.pyx\", line 1057, in pygpu.gpuarray.GpuContext.__cinit__\n",
      "GpuArrayException: cuInit: (null): (null)\n"
     ]
    }
   ],
   "source": [
    "from keras.preprocessing.image import ImageDataGenerator"
   ]
  },
  {
   "cell_type": "code",
   "execution_count": 2,
   "metadata": {},
   "outputs": [
    {
     "name": "stdout",
     "output_type": "stream",
     "text": [
      "/Users/sowmyapadmanabhi/AnacondaProjects/Sketch/Test1\n"
     ]
    }
   ],
   "source": [
    "img_width, img_height = 250, 250\n",
    "\n",
    "train_data_dir = '/Users/sowmyapadmanabhi/AnacondaProjects/Sketch/Train1'\n",
    "validation_data_dir = '/Users/sowmyapadmanabhi/AnacondaProjects/Sketch/Test1'\n",
    "print(validation_data_dir)"
   ]
  },
  {
   "cell_type": "code",
   "execution_count": 3,
   "metadata": {},
   "outputs": [
    {
     "name": "stdout",
     "output_type": "stream",
     "text": [
      "Found 240 images belonging to 3 classes.\n",
      "Found 96 images belonging to 3 classes.\n"
     ]
    }
   ],
   "source": [
    "# used to rescale the pixel values from [0, 255] to [0, 1] interval\n",
    "from keras import backend as K\n",
    "K.set_image_dim_ordering('th')\n",
    "datagen = ImageDataGenerator(rescale=1./255)\n",
    "\n",
    "# automagically retrieve images and their classes for train and validation sets\n",
    "train_generator = datagen.flow_from_directory(\n",
    "        train_data_dir,\n",
    "        target_size=(img_width, img_height),\n",
    "        batch_size=32,\n",
    "        class_mode='binary')\n",
    "\n",
    "validation_generator = datagen.flow_from_directory(\n",
    "        validation_data_dir,\n",
    "        target_size=(img_width, img_height),\n",
    "        batch_size=32,\n",
    "        class_mode='binary')"
   ]
  },
  {
   "cell_type": "code",
   "execution_count": 4,
   "metadata": {
    "collapsed": true
   },
   "outputs": [],
   "source": [
    "from keras.models import Sequential,Model\n",
    "from keras.layers import Input, Dense, Conv2D, MaxPooling2D, UpSampling2D, ZeroPadding2D, Convolution2D, Deconvolution2D, merge\n",
    "from keras.layers import Activation, Dropout, Flatten, Dense\n",
    "from keras.models import load_model\n",
    "from keras import objectives, layers"
   ]
  },
  {
   "cell_type": "code",
   "execution_count": null,
   "metadata": {
    "collapsed": true
   },
   "outputs": [],
   "source": [
    "from keras import backend as K\n",
    "K.set_image_dim_ordering('th')\n",
    "\n",
    "input = Input(shape=(3, 250, 250))\n",
    "\n",
    "layer1_conv_1 = Convolution2D(64, 15, 15,subsample=(3, 3),activation='relu')(input)\n",
    "layer1_pool_1 = MaxPooling2D(pool_size=(3, 3),strides=(2, 2))(layer1_conv_1)\n",
    "\n",
    "layer2_conv_1 = Convolution2D(128, 5, 5,subsample=(1, 1),activation='relu')(layer1_pool_1)\n",
    "layer2_pool_1 = MaxPooling2D(pool_size=(3, 3),strides=(2, 2))(layer2_conv_1)\n",
    "\n",
    "layer3_conv_1 = Convolution2D(256, 5, 5,subsample=(1, 1),activation='relu')(layer2_pool_1)\n",
    "layer3_pool_1 = MaxPooling2D(pool_size=(3, 3),strides=(2, 2))(layer3_conv_1)\n",
    "\n",
    "#tower A\n",
    "sparse_conv_a1 = Convolution2D(48, 1, 1)(layer3_pool_1)\n",
    "sparse_conv_a2 = Convolution2D(64, 3, 3)(sparse_conv_a1)\n",
    "\n",
    "\n",
    "# Tower B\n",
    "sparse_pool_b1 = AveragePooling2D(pool_size=(3, 3), strides=(1, 1))(layer3_pool_1)\n",
    "sparse_conv_b2 = Convolution2D(64, 1, 1)(sparse_pool_b1)\n",
    "\n",
    "# Tower C\n",
    "sparse_conv_c1 = Convolution2D(64, 3, 3)(layer3_pool_1)\n",
    "\n",
    "merge_layer = merge([sparse_conv_a2, sparse_conv_b2, sparse_conv_c1], mode='concat', concat_axis=1)\n",
    "\n",
    "layer5_pool_1 = MaxPooling2D(pool_size=(3, 3),strides=(2, 2))(merge_layer)\n",
    "flat = Flatten()(layer5_pool_1)\n",
    "fc1 = Dense(256, activation='relu')(flat)\n",
    "dr = Dropout(0.5)(fc1)\n",
    "fc2 = Dense(250, activation='sigmoid')(dr)\n",
    "model = Model(input,fc2)\n",
    "\n"
   ]
  },
  {
   "cell_type": "code",
   "execution_count": 31,
   "metadata": {
    "collapsed": true
   },
   "outputs": [],
   "source": [
    "model.compile(loss='binary_crossentropy',\n",
    "              optimizer='adam',\n",
    "              metrics=['accuracy'])\n",
    "model.summary()"
   ]
  },
  {
   "cell_type": "code",
   "execution_count": null,
   "metadata": {},
   "outputs": [
    {
     "name": "stdout",
     "output_type": "stream",
     "text": [
      "Epoch 00001: val_acc improved from -inf to 0.00000, saving model to weights-improvement-01-0.00.hdf5\n"
     ]
    }
   ],
   "source": [
    "from keras.callbacks import ModelCheckpoint\n",
    "#from keras import backend as K\n",
    "#K.set_image_dim_ordering('th')\n",
    "\n",
    "filepath=\"weights-improvement-{epoch:02d}-{val_acc:.2f}.hdf5\"\n",
    "checkpoint = ModelCheckpoint(filepath, monitor='val_acc', verbose=1, save_best_only=True,  mode='max', period=1)\n",
    "callbacks_list = [checkpoint]\n",
    "#init_from = '/Users/sowmyapadmanabhi/AnacondaProjects/Untitled Folder/first_try.h5',\n",
    "model.fit_generator(\n",
    "        train_generator,\n",
    "        steps_per_epoch=2000//32,\n",
    "        epochs=100,\n",
    "        validation_data=validation_generator,\n",
    "        validation_steps=800//32,\n",
    "        callbacks=callbacks_list,\n",
    "        verbose=0)\n",
    "model.save_weights('first_try.h5')"
   ]
  },
  {
   "cell_type": "code",
   "execution_count": 13,
   "metadata": {
    "collapsed": true
   },
   "outputs": [],
   "source": [
    "from keras import backend as K\n",
    "K.set_image_dim_ordering('th')\n",
    "\n",
    "model = Sequential()\n",
    "model.add(Conv2D(32, (3, 3),input_shape=(3,150, 150)))\n",
    "model.add(Activation('relu'))\n",
    "model.add(MaxPooling2D(pool_size=(2, 2)))\n",
    "\n",
    "model.add(Conv2D(32, (3, 3)))\n",
    "model.add(Activation('relu'))\n",
    "model.add(MaxPooling2D(pool_size=(2, 2)))\n",
    "\n",
    "model.add(Conv2D(64, (3, 3)))\n",
    "model.add(Activation('relu'))\n",
    "model.add(MaxPooling2D(pool_size=(2, 2)))"
   ]
  },
  {
   "cell_type": "code",
   "execution_count": 6,
   "metadata": {
    "collapsed": true
   },
   "outputs": [],
   "source": [
    "model.add(Flatten())  # this converts our 3D feature maps to 1D feature vectors\n",
    "model.add(Dense(64))\n",
    "model.add(Activation('relu'))\n",
    "model.add(Dropout(0.5))\n",
    "model.add(Dense(1))\n",
    "model.add(Activation('sigmoid'))"
   ]
  },
  {
   "cell_type": "code",
   "execution_count": 18,
   "metadata": {
    "collapsed": true
   },
   "outputs": [],
   "source": [
    "from keras import backend as K\n",
    "K.set_image_dim_ordering('th')\n",
    "\n",
    "model = Sequential()\n",
    "model.add(Conv2D(32, (3, 3),input_shape=(3,150, 150),padding='same'))\n",
    "model.add(Activation('relu'))\n",
    "model.add(Conv2D(32, (3, 3), padding='same'))\n",
    "model.add(Activation('relu'))\n",
    "model.add(MaxPooling2D(pool_size=(2, 2)))\n",
    "model.add(Dropout(0.25))\n",
    "\n",
    "# Conv2 16 16 (64)\n",
    "model.add(Conv2D(64, (3, 3), padding='same'))\n",
    "model.add(Activation('relu'))\n",
    "model.add(Conv2D(64, (3, 3), padding='same'))\n",
    "model.add(Activation('relu'))\n",
    "model.add(MaxPooling2D(pool_size=(2, 2)))\n",
    "model.add(Dropout(0.25))\n",
    "\n",
    "# Conv2 8 8 (128)\n",
    "model.add(Conv2D(128, (3, 3), padding='same'))\n",
    "model.add(Activation('relu'))\n",
    "model.add(Conv2D(128, (3, 3), padding='same'))\n",
    "model.add(Activation('relu'))\n",
    "model.add(MaxPooling2D(pool_size=(2, 2)))\n",
    "model.add(Dropout(0.25))\n",
    "\n"
   ]
  },
  {
   "cell_type": "code",
   "execution_count": 25,
   "metadata": {
    "collapsed": true
   },
   "outputs": [],
   "source": [
    "def generator_model(input_img):\n",
    "\n",
    "    # Encoder\n",
    "    x = Conv2D(32, (3, 3), activation='relu', padding='same')(input_img)\n",
    "    x = Conv2D(32, (3, 3), activation='relu', padding='same')(x)\n",
    "    x = MaxPooling2D((3, 3), padding='same')(x)\n",
    "\n",
    "    x = Conv2D(64, (3, 3), activation='relu', padding='same', name='block2_conv1')(x)\n",
    "    x = Conv2D(64, (3, 3), activation='relu', padding='same')(x)\n",
    "    x = MaxPooling2D((3, 3), padding='same')(x)\n",
    "\n",
    "    x = Conv2D(128, (3, 3), activation='relu', padding='same', name='block3_conv1')(x)\n",
    "    x = Conv2D(128, (3, 3), activation='relu', padding='same')(x)\n",
    "    x = MaxPooling2D((3, 3), padding='same')(x)\n",
    "\n",
    "    x = Conv2D(256, (3, 3), activation='relu', padding='same', name='block4_conv1')(x)\n",
    "    res = Conv2D(256, (3, 3), activation='relu', padding='same')(x)\n",
    "    x = layers.add([x, res])\n",
    "    res = Conv2D(256, (3, 3), activation='relu', padding='same')(x)\n",
    "    encoded = layers.add([x, res])\n",
    "\n",
    "    # Decoder\n",
    "    res = Conv2D(256, (3, 3), activation='relu', padding='same', name='block5_conv1')(encoded)\n",
    "    x = layers.add([encoded, res])\n",
    "    res = Conv2D(256, (3, 3), activation='relu', padding='same')(x)\n",
    "    x = layers.add([x, res])\n",
    "    res = Conv2D(256, (3, 3), activation='relu', padding='same')(x)\n",
    "    x = layers.add([x, res])\n",
    "\n",
    "    x = Conv2D(128, (3, 3), activation='relu', padding='same', name='block6_conv1')(x)\n",
    "    x = UpSampling2D((3, 3))(x)\n",
    "\n",
    "    x = Conv2D(128, (3, 3), activation='relu', padding='same', name='block7_conv1')(x)\n",
    "    res = Conv2D(128, (3, 3), activation='relu', padding='same')(x)\n",
    "    x = layers.add([x, res])\n",
    "    res = Conv2D(128, (3, 3), activation='relu', padding='same')(x)\n",
    "    x = layers.add([x, res])\n",
    "\n",
    "    x = Conv2D(64, (3, 3), activation='relu', padding='same', name='block8_conv1')(x)\n",
    "    x = UpSampling2D((3, 3))(x)\n",
    "\n",
    "    x = Conv2D(64, (3, 3), activation='relu', padding='same', name='block9_conv1')(x)\n",
    "    res = Conv2D(64, (3, 3), activation='relu', padding='same')(x)\n",
    "    x = layers.add([x, res])\n",
    "    res = Conv2D(64, (3, 3), activation='relu', padding='same')(x)\n",
    "    x = layers.add([x, res])\n",
    "\n",
    "    x = Conv2D(32, (3, 3), activation='relu', padding='same', name='block10_conv1')(x)\n",
    "    x = UpSampling2D((3, 3))(x)\n",
    "\n",
    "    x = Conv2D(32, (3, 3), activation='relu', padding='same', name='block11_conv1')(x)\n",
    "    res = Conv2D(32, (3, 3), activation='relu', padding='same')(x)\n",
    "    x = layers.add([x, res])\n",
    "    decoded = Conv2D(32, (3, 3), activation='sigmoid', padding='same')(x)\n",
    "    model = Model(input=input_img, output=decoded)\n",
    "    return model"
   ]
  },
  {
   "cell_type": "code",
   "execution_count": 29,
   "metadata": {
    "collapsed": true
   },
   "outputs": [],
   "source": [
    "def discriminator_model(img_input):\n",
    "    \n",
    "    x = Conv2D(64, (3, 3), activation='relu', padding='same', name='d_block1_conv1')(img_input)\n",
    "    x = Conv2D(64, (3, 3), activation='relu', padding='same', name='d_block1_conv2')(x)\n",
    "    x = MaxPooling2D((2, 2), strides=(2, 2), name='d_block1_pool')(x)\n",
    "\n",
    "    # Block 2\n",
    "    x = Conv2D(128, (3, 3), activation='relu', padding='same', name='d_block2_conv1')(x)\n",
    "    x = Conv2D(128, (3, 3), activation='relu', padding='same', name='d_block2_conv2')(x)\n",
    "    x = MaxPooling2D((2, 2), strides=(2, 2), name='d_block2_pool')(x)\n",
    "\n",
    "    # Block 3\n",
    "    x = Conv2D(256, (3, 3), activation='relu', padding='same', name='d_block3_conv1')(x)\n",
    "    x = Conv2D(256, (3, 3), activation='relu', padding='same', name='d_block3_conv2')(x)\n",
    "    x = Conv2D(256, (3, 3), activation='relu', padding='same', name='d_block3_conv3')(x)\n",
    "    x = MaxPooling2D((2, 2), strides=(2, 2), name='d_block3_pool')(x)\n",
    "\n",
    "    # Block 4\n",
    "    x = Conv2D(512, (3, 3), activation='relu', padding='same', name='d_block4_conv1')(x)\n",
    "    x = Conv2D(512, (3, 3), activation='relu', padding='same', name='d_block4_conv2')(x)\n",
    "    x = Conv2D(512, (3, 3), activation='relu', padding='same', name='d_block4_conv3')(x)\n",
    "    x = MaxPooling2D((2, 2), strides=(2, 2), name='d_block4_pool')(x)\n",
    "\n",
    "    # Block 5\n",
    "    x = Conv2D(512, (3, 3), activation='relu', padding='same', name='d_block5_conv1')(x)\n",
    "    x = Conv2D(512, (3, 3), activation='relu', padding='same', name='d_block5_conv2')(x)\n",
    "    x = Conv2D(512, (3, 3), activation='relu', padding='same', name='d_block5_conv3')(x)\n",
    "    x = MaxPooling2D((2, 2), strides=(2, 2), name='d_block5_pool')(x)\n",
    "    \n",
    "    x = Flatten(name='flatten')(x)\n",
    "    x = Dense(512, activation='relu', name='d_fc1')(x)\n",
    "    x = Dropout(0.5)(x)\n",
    "    x = Dense(1, activation='relu', name='d_fc2')(x)\n",
    "    model = Model(input=img_input, output=x)\n",
    "    \n",
    "    return model"
   ]
  },
  {
   "cell_type": "code",
   "execution_count": 30,
   "metadata": {
    "scrolled": true
   },
   "outputs": [
    {
     "name": "stderr",
     "output_type": "stream",
     "text": [
      "/Users/sowmyapadmanabhi/anaconda2/lib/python2.7/site-packages/ipykernel_launcher.py:34: UserWarning: Update your `Model` call to the Keras 2 API: `Model(outputs=Elemwise{m..., inputs=/input_7)`\n"
     ]
    }
   ],
   "source": [
    "# FC\n",
    "\n",
    "input_img = Input(shape=(3, 300, 300))\n",
    "#generator = generator_model(input_img)\n",
    "discrminator = discriminator_model(input_img)\n",
    "\n",
    "model = Sequential()\n",
    "#model.add(generator)\n",
    "model.add(discrminator)\n",
    "\n",
    "#model.add(Flatten())\n",
    "#model.add(Dense(128))\n",
    "#model.add(Activation('relu'))\n",
    "#model.add(Dropout(0.5))\n",
    "#model.add(Dense(64))\n",
    "#model.add(Activation('relu'))\n",
    "#model.add(Dropout(0.5))\n",
    "#model.add(Dense(1))\n",
    "#model.add(Activation('softmax'))"
   ]
  },
  {
   "cell_type": "code",
   "execution_count": null,
   "metadata": {
    "collapsed": true
   },
   "outputs": [],
   "source": []
  }
 ],
 "metadata": {
  "kernelspec": {
   "display_name": "Python 2",
   "language": "python",
   "name": "python2"
  },
  "language_info": {
   "codemirror_mode": {
    "name": "ipython",
    "version": 2
   },
   "file_extension": ".py",
   "mimetype": "text/x-python",
   "name": "python",
   "nbconvert_exporter": "python",
   "pygments_lexer": "ipython2",
   "version": "2.7.14"
  }
 },
 "nbformat": 4,
 "nbformat_minor": 2
}
